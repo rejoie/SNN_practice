{
 "cells": [
  {
   "cell_type": "code",
   "execution_count": 1,
   "metadata": {
    "pycharm": {
     "is_executing": false
    }
   },
   "outputs": [],
   "source": [
    "import torch\n",
    "import torch.nn as nn\n",
    "import torch.nn.functional as F\n",
    "from spikingjelly.activation_based import neuron,functional,layer"
   ]
  },
  {
   "cell_type": "code",
   "execution_count": 2,
   "metadata": {
    "pycharm": {
     "is_executing": false
    }
   },
   "outputs": [],
   "source": [
    "net = neuron.IFNode(step_mode='m')\n",
    "# 'm' is the multi-step mode\n",
    "net.step_mode = 's'\n",
    "# 's' is the single-step mode"
   ]
  },
  {
   "cell_type": "code",
   "execution_count": 3,
   "metadata": {
    "collapsed": false,
    "pycharm": {
     "is_executing": false,
     "name": "#%%\n"
    }
   },
   "outputs": [
    {
     "name": "stdout",
     "output_type": "stream",
     "text": [
      "torch.Size([1, 1, 3, 8, 8])\n",
      "torch.Size([4, 1, 3, 8, 8])\n"
     ]
    }
   ],
   "source": [
    "net_s = neuron.IFNode(step_mode='s')\n",
    "T = 4\n",
    "N = 1\n",
    "C = 3\n",
    "H = 8\n",
    "W = 8\n",
    "x_seq = torch.rand([T, N, C, H, W])\n",
    "y_seq = []\n",
    "for t in range(T):\n",
    "    x = x_seq[t]  # x.shape = [N, C, H, W]\n",
    "    y = net_s(x)  # y.shape = [N, C, H, W]\n",
    "    y_seq.append(y.unsqueeze(0))# torch.Size([1, 1, 3, 8, 8])\n",
    "\n",
    "print(y_seq[1].shape)\n",
    "y_seq = torch.cat(y_seq)# torch.Size([4, 1, 3, 8, 8])\n",
    "print(y_seq.shape)\n",
    "# y_seq.shape = [T, N, C, H, W]"
   ]
  },
  {
   "cell_type": "code",
   "execution_count": 4,
   "metadata": {
    "collapsed": false,
    "pycharm": {
     "is_executing": false,
     "name": "#%%\n"
    }
   },
   "outputs": [
    {
     "name": "stdout",
     "output_type": "stream",
     "text": [
      "torch.Size([4, 1, 3, 8, 8])\n",
      "torch.Size([4, 1, 3, 8, 8])\n"
     ]
    }
   ],
   "source": [
    "print(x_seq.shape)\n",
    "y_seq = functional.multi_step_forward(x_seq, net_s)\n",
    "print(y_seq.shape)"
   ]
  },
  {
   "cell_type": "code",
   "execution_count": 5,
   "metadata": {
    "collapsed": false,
    "pycharm": {
     "is_executing": false,
     "name": "#%%\n"
    }
   },
   "outputs": [
    {
     "name": "stdout",
     "output_type": "stream",
     "text": [
      "torch.Size([4, 1, 3, 8, 8])\n"
     ]
    }
   ],
   "source": [
    "net_m = neuron.IFNode(step_mode='m')\n",
    "y_seq = net_m(x_seq)\n",
    "print(y_seq.shape)"
   ]
  },
  {
   "cell_type": "code",
   "execution_count": 6,
   "metadata": {
    "collapsed": false,
    "pycharm": {
     "is_executing": false,
     "name": "#%%\n"
    }
   },
   "outputs": [
    {
     "name": "stdout",
     "output_type": "stream",
     "text": [
      "IFNode(\n",
      "  v_threshold=1.0, v_reset=0.0, detach_reset=False, step_mode=s, backend=torch\n",
      "  (surrogate_function): Sigmoid(alpha=4.0, spiking=True)\n",
      ")\n",
      "the initial v=0.0\n",
      "x=tensor([0.8799, 0.1571, 0.1993, 0.9120])\n",
      "y=tensor([0., 0., 0., 0.])\n",
      "v=tensor([0.8799, 0.1571, 0.1993, 0.9120])\n"
     ]
    }
   ],
   "source": [
    "net_s.reset()\n",
    "x = torch.rand([4])\n",
    "print(net_s)\n",
    "print(f'the initial v={net_s.v}')\n",
    "y = net_s(x)\n",
    "print(f'x={x}')\n",
    "print(f'y={y}')\n",
    "print(f'v={net_s.v}')"
   ]
  },
  {
   "cell_type": "code",
   "execution_count": 8,
   "metadata": {},
   "outputs": [
    {
     "name": "stderr",
     "output_type": "stream",
     "text": [
      "WARNING:root:IFNode(\n",
      "  v_threshold=1.0, v_reset=0.0, detach_reset=False, step_mode=s, backend=torch\n",
      "  (surrogate_function): Sigmoid(alpha=4.0, spiking=True)\n",
      ") supports for step_mode == 's', which should not be contained by MultiStepContainer!\n"
     ]
    },
    {
     "name": "stdout",
     "output_type": "stream",
     "text": [
      "torch.Size([4, 1, 3, 8, 8])\n",
      "torch.Size([4, 1, 3, 8, 8])\n"
     ]
    }
   ],
   "source": [
    "net_s.reset()\n",
    "T = 4\n",
    "N = 1\n",
    "C = 3\n",
    "H = 8\n",
    "W = 8\n",
    "x_seq = torch.rand([T, N, C, H, W])\n",
    "y_seq = functional.multi_step_forward(x_seq, net_s)\n",
    "print(y_seq.shape)\n",
    "\n",
    "net_s.reset()\n",
    "net_m = layer.MultiStepContainer(net_s)\n",
    "z_seq = net_m(x_seq)\n",
    "print(z_seq.shape)\n",
    "\n",
    "# z_seq is identical to y_seq"
   ]
  },
  {
   "cell_type": "code",
   "execution_count": 11,
   "metadata": {},
   "outputs": [
    {
     "name": "stdout",
     "output_type": "stream",
     "text": [
      "torch.Size([4, 1, 8, 8, 8])\n",
      "torch.Size([4, 1, 8, 8, 8])\n",
      "torch.Size([4, 1, 8, 8, 8])\n"
     ]
    }
   ],
   "source": [
    "with torch.no_grad():\n",
    "    T = 4\n",
    "    N = 1\n",
    "    C = 3\n",
    "    H = 8\n",
    "    W = 8\n",
    "    x_seq = torch.rand([T, N, C, H, W])\n",
    "\n",
    "    conv = nn.Conv2d(C, 8, kernel_size=3, padding=1, bias=False)\n",
    "    bn = nn.BatchNorm2d(8)\n",
    "\n",
    "    y_seq = functional.multi_step_forward(x_seq, (conv, bn))\n",
    "    print(y_seq.shape)\n",
    "\n",
    "    net = layer.MultiStepContainer(conv, bn)\n",
    "    z_seq = net(x_seq)\n",
    "    print(z_seq.shape)\n",
    "    # z_seq is identical to y_seq\n",
    "\n",
    "    p_seq = functional.seq_to_ann_forward(x_seq, (conv, bn))\n",
    "    # p_seq.shape = [T, N, 8, H, W]\n",
    "\n",
    "    net = layer.SeqToANNContainer(conv, bn)\n",
    "    q_seq = net(x_seq)\n",
    "    print(q_seq.shape)\n",
    "\n",
    "    # q_seq is identical to p_seq, and also identical to y_seq and z_seq"
   ]
  },
  {
   "cell_type": "code",
   "execution_count": null,
   "metadata": {},
   "outputs": [],
   "source": []
  }
 ],
 "metadata": {
  "kernelspec": {
   "display_name": "Python 3.8.15 ('snn38')",
   "language": "python",
   "name": "python3"
  },
  "language_info": {
   "codemirror_mode": {
    "name": "ipython",
    "version": 3
   },
   "file_extension": ".py",
   "mimetype": "text/x-python",
   "name": "python",
   "nbconvert_exporter": "python",
   "pygments_lexer": "ipython3",
   "version": "3.8.15"
  },
  "orig_nbformat": 4,
  "pycharm": {
   "stem_cell": {
    "cell_type": "raw",
    "metadata": {
     "collapsed": false
    },
    "source": []
   }
  },
  "vscode": {
   "interpreter": {
    "hash": "106c57443b585dc88530a7db7e1247283481abe19e35fa49a541746c31529584"
   }
  }
 },
 "nbformat": 4,
 "nbformat_minor": 2
}
