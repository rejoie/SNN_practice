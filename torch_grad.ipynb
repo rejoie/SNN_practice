{
 "cells": [
  {
   "cell_type": "code",
   "execution_count": 27,
   "metadata": {},
   "outputs": [],
   "source": [
    "import torch\n",
    "import torch.nn as nn"
   ]
  },
  {
   "cell_type": "code",
   "execution_count": 28,
   "metadata": {},
   "outputs": [],
   "source": [
    "net=nn.Sequential(\n",
    "    nn.Linear(3,2),\n",
    "    nn.Softmax()\n",
    ")"
   ]
  },
  {
   "cell_type": "code",
   "execution_count": 29,
   "metadata": {},
   "outputs": [
    {
     "name": "stdout",
     "output_type": "stream",
     "text": [
      "tensor([ 0.4330, -0.1891,  0.7897], requires_grad=True)\n"
     ]
    }
   ],
   "source": [
    "x=torch.randn(3,requires_grad=True)\n",
    "print(x)"
   ]
  },
  {
   "cell_type": "code",
   "execution_count": 30,
   "metadata": {},
   "outputs": [],
   "source": [
    "optimizer = torch.optim.Adam(net.parameters(), lr=1e-3)"
   ]
  },
  {
   "cell_type": "code",
   "execution_count": 36,
   "metadata": {},
   "outputs": [
    {
     "name": "stdout",
     "output_type": "stream",
     "text": [
      "tensor([[0.9857, 0.0036, 0.5893],\n",
      "        [0.4053, 0.3110, 0.3381]])\n",
      "Parameter containing:\n",
      "tensor([[-0.0755, -0.4276, -0.1281],\n",
      "        [-0.0323,  0.1614, -0.3018]], requires_grad=True)\n",
      "y: tensor([0.7270, 0.2730], grad_fn=<SoftmaxBackward0>)\n",
      "tensor([[0., 0., 0.],\n",
      "        [0., 0., 0.]])\n",
      "grad: tensor([[0.2307, 0.7215, 0.9777],\n",
      "        [0.0976, 0.5627, 0.2673]])\n",
      "grad: tensor([[1.0900, 0.9235, 1.2382],\n",
      "        [0.3552, 0.8006, 1.0191]])\n",
      "grad: tensor([[1.2397, 1.8754, 2.0516],\n",
      "        [0.5247, 1.2256, 1.7160]])\n",
      "Parameter containing:\n",
      "tensor([[-0.0764, -0.4284, -0.1289],\n",
      "        [-0.0330,  0.1607, -0.3026]], requires_grad=True)\n"
     ]
    }
   ],
   "source": [
    "print(net[0].weight.grad)\n",
    "print(net[0].weight)\n",
    "optimizer.zero_grad()\n",
    "y=net(x)\n",
    "print('y:',y)\n",
    "loss=((1-y)**2).sum()\n",
    "# net[0].weight.backward(torch.ones_like(net[0].weight))\n",
    "print(net[0].weight.grad)\n",
    "for i in range(3):\n",
    "    net[0].weight.grad+=torch.rand_like(net[0].weight)# 自定义梯度\n",
    "    print('grad:',net[0].weight.grad)\n",
    "loss.backward()\n",
    "optimizer.step()\n",
    "print(net[0].weight)\n"
   ]
  }
 ],
 "metadata": {
  "kernelspec": {
   "display_name": "Python 3.8.15 ('py38')",
   "language": "python",
   "name": "python3"
  },
  "language_info": {
   "codemirror_mode": {
    "name": "ipython",
    "version": 3
   },
   "file_extension": ".py",
   "mimetype": "text/x-python",
   "name": "python",
   "nbconvert_exporter": "python",
   "pygments_lexer": "ipython3",
   "version": "3.8.15"
  },
  "orig_nbformat": 4,
  "vscode": {
   "interpreter": {
    "hash": "51582ed516be4194d0681ab41331bdf49015ae552f1f95522fcb6a8efc2a378b"
   }
  }
 },
 "nbformat": 4,
 "nbformat_minor": 2
}
