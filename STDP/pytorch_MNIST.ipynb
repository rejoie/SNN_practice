{
 "cells": [
  {
   "cell_type": "code",
   "execution_count": 1,
   "metadata": {},
   "outputs": [
    {
     "name": "stderr",
     "output_type": "stream",
     "text": [
      "/data/tanghao/miniconda3/envs/py38/lib/python3.8/site-packages/tqdm/auto.py:22: TqdmWarning: IProgress not found. Please update jupyter and ipywidgets. See https://ipywidgets.readthedocs.io/en/stable/user_install.html\n",
      "  from .autonotebook import tqdm as notebook_tqdm\n"
     ]
    }
   ],
   "source": [
    "import torch\n",
    "import torch.nn as nn\n",
    "import torch.nn.functional as F\n",
    "import torch.utils.data as data\n",
    "import torchvision\n",
    "import argparse, os, sys,time"
   ]
  },
  {
   "cell_type": "code",
   "execution_count": 2,
   "metadata": {},
   "outputs": [
    {
     "name": "stdout",
     "output_type": "stream",
     "text": [
      "Namespace(b=200, data_dir='/data/tanghao/datasets/', device='cuda:0', epochs=10, j=4, lr=0.01, momentum=0.9, opt='adam')\n"
     ]
    }
   ],
   "source": [
    "parser = argparse.ArgumentParser(description='MLP')\n",
    "parser.add_argument('-device', default='cuda:0', help='device')\n",
    "parser.add_argument('-b', default=200, type=int, help='batch size')\n",
    "parser.add_argument('-epochs', default=10, type=int, metavar='N',\n",
    "                    help='number of total epochs to run')\n",
    "parser.add_argument('-j', default=4, type=int, metavar='N',\n",
    "                    help='number of data loading workers (default: 4)')\n",
    "parser.add_argument('-data-dir', default='/data/tanghao/datasets/', type=str, help='root dir of dataset')\n",
    "parser.add_argument('-opt', type=str, choices=['sgd', 'adam'], default='adam', help='use which optimizer. SGD or Adam')\n",
    "parser.add_argument('-momentum', default=0.9, type=float, help='momentum for SGD')\n",
    "parser.add_argument('-lr', default=1e-2, type=float, help='learning rate')\n",
    "\n",
    "args = parser.parse_args(args=[])\n",
    "print(args)\n",
    "\n",
    "os.environ['CUDA_LAUNCH_BLOCKING'] = '0'"
   ]
  },
  {
   "cell_type": "code",
   "execution_count": 3,
   "metadata": {},
   "outputs": [],
   "source": [
    "train_dataset = torchvision.datasets.MNIST(\n",
    "    root=args.data_dir,\n",
    "    train=True,\n",
    "    transform=torchvision.transforms.ToTensor(),\n",
    "    download=True\n",
    ")\n",
    "test_dataset = torchvision.datasets.MNIST(\n",
    "    root=args.data_dir,\n",
    "    train=False,\n",
    "    transform=torchvision.transforms.ToTensor(),\n",
    "    download=True\n",
    ")\n",
    "\n",
    "train_data_loader = data.DataLoader(\n",
    "    dataset=train_dataset,\n",
    "    batch_size=args.b,\n",
    "    shuffle=True,\n",
    "    drop_last=True,\n",
    "    num_workers=args.j,\n",
    "    pin_memory=True\n",
    ")\n",
    "test_data_loader = data.DataLoader(\n",
    "    dataset=test_dataset,\n",
    "    batch_size=args.b,\n",
    "    shuffle=False,\n",
    "    drop_last=False,\n",
    "    num_workers=args.j,\n",
    "    pin_memory=True\n",
    ")"
   ]
  },
  {
   "cell_type": "code",
   "execution_count": 4,
   "metadata": {},
   "outputs": [],
   "source": [
    "net=nn.Sequential(\n",
    "    nn.Flatten(),\n",
    "    nn.Linear(784, 200),\n",
    "    nn.ReLU(),\n",
    "    nn.Linear(200, 10),\n",
    "    nn.Softmax(dim=1)\n",
    ").to(args.device)"
   ]
  },
  {
   "cell_type": "code",
   "execution_count": 5,
   "metadata": {},
   "outputs": [],
   "source": [
    "# modle=nn.Sequential(\n",
    "#     nn.ReLU()\n",
    "# ).to(args.device)\n",
    "# for item in modle.parameters():\n",
    "#     print(item)\n",
    "\n",
    "# modle=nn.Sequential(\n",
    "#     nn.Flatten(),\n",
    "#     nn.Linear(784, 200, bias=False),\n",
    "# ).to(args.device)\n",
    "# for item in modle.parameters():\n",
    "#     print(item.shape)"
   ]
  },
  {
   "cell_type": "code",
   "execution_count": 6,
   "metadata": {},
   "outputs": [
    {
     "name": "stdout",
     "output_type": "stream",
     "text": [
      "torch.Size([200, 784])\n",
      "torch.Size([200])\n",
      "torch.Size([10, 200])\n",
      "torch.Size([10])\n"
     ]
    }
   ],
   "source": [
    "criteon=nn.CrossEntropyLoss().to(args.device)\n",
    "optimizer=torch.optim.Adam(net.parameters(),lr=args.lr)\n",
    "for item in net.parameters():\n",
    "    print(item.shape)"
   ]
  },
  {
   "cell_type": "code",
   "execution_count": 8,
   "metadata": {},
   "outputs": [
    {
     "name": "stdout",
     "output_type": "stream",
     "text": [
      "torch.Size([200, 784]) torch.Size([200, 784])\n",
      "epoch: 0, train loss: 1.4992708233992258, test loss: 1.4989584136009215, test acc: 0.9624\n",
      "torch.Size([200, 784]) torch.Size([200, 784])\n",
      "epoch: 1, train loss: 1.495456307331721, test loss: 1.4986043405532836, test acc: 0.9624\n",
      "torch.Size([200, 784]) torch.Size([200, 784])\n",
      "epoch: 2, train loss: 1.495670986175537, test loss: 1.4997592043876649, test acc: 0.9615\n",
      "torch.Size([200, 784]) torch.Size([200, 784])\n",
      "epoch: 3, train loss: 1.496355128288269, test loss: 1.4981451201438905, test acc: 0.9628\n",
      "torch.Size([200, 784]) torch.Size([200, 784])\n",
      "epoch: 4, train loss: 1.4919194849332174, test loss: 1.498089201450348, test acc: 0.963\n",
      "torch.Size([200, 784]) torch.Size([200, 784])\n",
      "epoch: 5, train loss: 1.492067020336787, test loss: 1.5014455151557922, test acc: 0.9591\n",
      "torch.Size([200, 784]) torch.Size([200, 784])\n",
      "epoch: 6, train loss: 1.4930078820387522, test loss: 1.4963587403297425, test acc: 0.9646\n",
      "torch.Size([200, 784]) torch.Size([200, 784])\n",
      "epoch: 7, train loss: 1.490179796218872, test loss: 1.4940790009498597, test acc: 0.9674\n",
      "torch.Size([200, 784]) torch.Size([200, 784])\n",
      "epoch: 8, train loss: 1.4886665908495584, test loss: 1.4952609825134278, test acc: 0.9661\n",
      "torch.Size([200, 784]) torch.Size([200, 784])\n",
      "epoch: 9, train loss: 1.4892548100153604, test loss: 1.5062308835983276, test acc: 0.9548\n"
     ]
    }
   ],
   "source": [
    "for epoch in range(args.epochs):\n",
    "    net.train()\n",
    "    train_loss = 0\n",
    "    for i, (x, y) in enumerate(train_data_loader):\n",
    "        x, y = x.to(args.device), y.to(args.device)\n",
    "\n",
    "        y_hat = net(x)\n",
    "        loss = criteon(y_hat, y)\n",
    "        train_loss += loss.item()\n",
    "        optimizer.zero_grad()\n",
    "        loss.backward()\n",
    "        optimizer.step()\n",
    "\n",
    "    print(net[1].weight.grad.shape,net[1].weight.shape)\n",
    "    net.eval()\n",
    "    test_loss = 0\n",
    "    correct = 0\n",
    "    for i, (x, y) in enumerate(test_data_loader):\n",
    "        x, y = x.to(args.device), y.to(args.device)\n",
    "        # print(x.shape, y.shape)\n",
    "        y_hat = net(x)\n",
    "        loss = criteon(y_hat, y)\n",
    "        test_loss += loss.item()\n",
    "        correct += (torch.argmax(y_hat, dim=1) == y).sum().item()\n",
    "\n",
    "    print('epoch: {}, train loss: {}, test loss: {}, test acc: {}'.format(\n",
    "        epoch, train_loss / len(train_data_loader),test_loss / len(test_data_loader), correct / len(test_dataset)))\n"
   ]
  }
 ],
 "metadata": {
  "kernelspec": {
   "display_name": "Python 3.8.15 ('py38')",
   "language": "python",
   "name": "python3"
  },
  "language_info": {
   "codemirror_mode": {
    "name": "ipython",
    "version": 3
   },
   "file_extension": ".py",
   "mimetype": "text/x-python",
   "name": "python",
   "nbconvert_exporter": "python",
   "pygments_lexer": "ipython3",
   "version": "3.8.15"
  },
  "orig_nbformat": 4,
  "vscode": {
   "interpreter": {
    "hash": "51582ed516be4194d0681ab41331bdf49015ae552f1f95522fcb6a8efc2a378b"
   }
  }
 },
 "nbformat": 4,
 "nbformat_minor": 2
}
