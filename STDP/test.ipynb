{
 "cells": [
  {
   "cell_type": "code",
   "execution_count": 5,
   "metadata": {},
   "outputs": [],
   "source": [
    "import torch\n",
    "from typing import Callable, Union\n",
    "import torch.nn as nn"
   ]
  },
  {
   "cell_type": "code",
   "execution_count": 6,
   "metadata": {},
   "outputs": [],
   "source": [
    "def stdp_grad(\n",
    "    weight, in_spike: torch.Tensor, out_spike: torch.Tensor,\n",
    "    trace_pre: Union[float, torch.Tensor, None],\n",
    "    trace_post: Union[float, torch.Tensor, None],\n",
    "    w_min: float, w_max: float,\n",
    "    f_pre: Callable = lambda x: x, f_post: Callable = lambda x: x\n",
    "):\n",
    "    \n",
    "\n",
    "    # [batch_size, N_out, N_in] -> [N_out, N_in]\n",
    "    # 此处对照更新公式，使用unsqueeze添加更新公式中所缺失的一维\n",
    "    print(trace_pre.shape,trace_post.shape,weight.shape,trace_pre.unsqueeze(1).shape)\n",
    "    # [200, 784] [200, 10] [10, 784] [200, 1, 784]\n",
    "    # torch.Size([200, 784]) torch.Size([200, 10]) torch.Size([10, 784]) torch.Size([200, 1, 784])\n",
    "    # trace_pre shape = [batch_size, N_in] = [200, 784]\n",
    "    # trace_post shape = [batch_size, N_out] = [200, 10]\n",
    "    # in_spike shape = [batch_size, N_in] = [200, 784]\n",
    "    # out_spike shape = [batch_size, N_out] = [200, 10]\n",
    "    delta_w_pre = -f_pre(weight, w_min) * (trace_post.unsqueeze(2) * in_spike.unsqueeze(1)).sum(0)\n",
    "    delta_w_post = f_post(weight, w_max) * (trace_pre.unsqueeze(1) * out_spike.unsqueeze(2)).sum(0)\n",
    "    return delta_w_pre + delta_w_post"
   ]
  },
  {
   "cell_type": "code",
   "execution_count": 7,
   "metadata": {},
   "outputs": [
    {
     "name": "stdout",
     "output_type": "stream",
     "text": [
      "torch.Size([200, 784]) torch.Size([200, 10]) torch.Size([10, 784]) torch.Size([200, 1, 784])\n",
      "torch.Size([10, 784])\n"
     ]
    }
   ],
   "source": [
    "def f_pre(x, w_min, alpha=0.):\n",
    "    return (x - w_min) ** alpha\n",
    "\n",
    "def f_post(x, w_max, alpha=0.):\n",
    "    return (w_max - x) ** alpha\n",
    "print(stdp_grad(torch.rand(10, 784), torch.rand(200, 784), torch.rand(\n",
    "    200, 10), torch.rand(200, 784), torch.rand(200, 10), -1, 1,f_pre,f_post).shape)\n"
   ]
  }
 ],
 "metadata": {
  "kernelspec": {
   "display_name": "Python 3.8.15 ('py38')",
   "language": "python",
   "name": "python3"
  },
  "language_info": {
   "codemirror_mode": {
    "name": "ipython",
    "version": 3
   },
   "file_extension": ".py",
   "mimetype": "text/x-python",
   "name": "python",
   "nbconvert_exporter": "python",
   "pygments_lexer": "ipython3",
   "version": "3.8.15"
  },
  "orig_nbformat": 4,
  "vscode": {
   "interpreter": {
    "hash": "51582ed516be4194d0681ab41331bdf49015ae552f1f95522fcb6a8efc2a378b"
   }
  }
 },
 "nbformat": 4,
 "nbformat_minor": 2
}
