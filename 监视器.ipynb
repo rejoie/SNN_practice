{
 "cells": [
  {
   "cell_type": "code",
   "execution_count": 1,
   "metadata": {},
   "outputs": [],
   "source": [
    "import torch\n",
    "import torch.nn as nn\n",
    "from spikingjelly.activation_based import monitor, neuron, functional, layer, surrogate"
   ]
  },
  {
   "cell_type": "code",
   "execution_count": 2,
   "metadata": {},
   "outputs": [
    {
     "name": "stdout",
     "output_type": "stream",
     "text": [
      "Parameter containing:\n",
      "tensor([[ 0.3061,  0.3096,  0.2182,  0.0596, -0.0272,  0.2302, -0.0408,  0.0239],\n",
      "        [-0.2832,  0.0125,  0.1958, -0.2635,  0.2015, -0.2020, -0.1491,  0.3531],\n",
      "        [ 0.3143,  0.0347, -0.0431,  0.2495,  0.1523, -0.1337, -0.3041, -0.2078],\n",
      "        [-0.2687, -0.2032,  0.2507, -0.0075,  0.2419,  0.2392,  0.1708,  0.0301]],\n",
      "       requires_grad=True)\n",
      "Parameter containing:\n",
      "tensor([ 0.2052, -0.2712,  0.1804,  0.3093], requires_grad=True)\n",
      "Parameter containing:\n",
      "tensor([[ 0.3422,  0.0617, -0.0562, -0.2766],\n",
      "        [-0.4885, -0.3900, -0.4209, -0.2670]], requires_grad=True)\n",
      "Parameter containing:\n",
      "tensor([-0.0510, -0.4630], requires_grad=True)\n"
     ]
    }
   ],
   "source": [
    "net = nn.Sequential(\n",
    "    layer.Linear(8, 4),\n",
    "    neuron.IFNode(),\n",
    "    layer.Linear(4, 2),\n",
    "    neuron.IFNode()\n",
    ")\n",
    "\n",
    "for param in net.parameters():\n",
    "    print(param)\n",
    "    param.data.abs_()\n",
    "\n",
    "functional.set_step_mode(net, 'm')"
   ]
  },
  {
   "cell_type": "code",
   "execution_count": 3,
   "metadata": {},
   "outputs": [
    {
     "name": "stdout",
     "output_type": "stream",
     "text": [
      "spike_seq_monitor.records=\n",
      "[tensor([[[0., 0., 0., 0.]],\n",
      "\n",
      "        [[1., 1., 1., 1.]],\n",
      "\n",
      "        [[0., 1., 1., 1.]],\n",
      "\n",
      "        [[1., 0., 0., 0.]]]), tensor([[[0., 0.]],\n",
      "\n",
      "        [[0., 1.]],\n",
      "\n",
      "        [[1., 1.]],\n",
      "\n",
      "        [[0., 0.]]])]\n",
      "linear_monitor.records=\n",
      "[tensor([[[0.6820, 0.9185, 0.6898, 0.7219]],\n",
      "\n",
      "        [[0.8513, 0.9923, 0.7236, 1.0778]],\n",
      "\n",
      "        [[0.8396, 1.0755, 1.0126, 1.0248]],\n",
      "\n",
      "        [[0.5967, 0.9662, 0.7659, 0.9066]]]), tensor([[[0.0510, 0.4630]],\n",
      "\n",
      "        [[0.7877, 2.0296]],\n",
      "\n",
      "        [[0.4455, 1.5410]],\n",
      "\n",
      "        [[0.3931, 0.9516]]])]\n"
     ]
    }
   ],
   "source": [
    "spike_seq_monitor = monitor.OutputMonitor(net, neuron.IFNode)\n",
    "linear_monitor=monitor.OutputMonitor(net,layer.Linear)\n",
    "T = 4\n",
    "N = 1\n",
    "x_seq = torch.rand([T, N, 8])\n",
    "\n",
    "# net(x_seq)\n",
    "\n",
    "with torch.no_grad():\n",
    "    net(x_seq)\n",
    "\n",
    "print(f'spike_seq_monitor.records=\\n{spike_seq_monitor.records}')\n",
    "print(f'linear_monitor.records=\\n{linear_monitor.records}')"
   ]
  },
  {
   "cell_type": "code",
   "execution_count": 4,
   "metadata": {},
   "outputs": [
    {
     "name": "stdout",
     "output_type": "stream",
     "text": [
      "spike_seq_monitor[0]=tensor([[[0., 0., 0., 0.]],\n",
      "\n",
      "        [[1., 1., 1., 1.]],\n",
      "\n",
      "        [[0., 1., 1., 1.]],\n",
      "\n",
      "        [[1., 0., 0., 0.]]])\n"
     ]
    }
   ],
   "source": [
    "print(f'spike_seq_monitor[0]={spike_seq_monitor[0]}')"
   ]
  },
  {
   "cell_type": "code",
   "execution_count": 5,
   "metadata": {},
   "outputs": [
    {
     "name": "stdout",
     "output_type": "stream",
     "text": [
      "net=Sequential(\n",
      "  (0): Linear(in_features=8, out_features=4, bias=True)\n",
      "  (1): IFNode(\n",
      "    v_threshold=1.0, v_reset=0.0, detach_reset=False, step_mode=m, backend=torch\n",
      "    (surrogate_function): Sigmoid(alpha=4.0, spiking=True)\n",
      "  )\n",
      "  (2): Linear(in_features=4, out_features=2, bias=True)\n",
      "  (3): IFNode(\n",
      "    v_threshold=1.0, v_reset=0.0, detach_reset=False, step_mode=m, backend=torch\n",
      "    (surrogate_function): Sigmoid(alpha=4.0, spiking=True)\n",
      "  )\n",
      ")\n",
      "spike_seq_monitor.monitored_layers=['1', '3']\n",
      "linear_monitor.monitored_layers=['0', '2']\n"
     ]
    }
   ],
   "source": [
    "print(f'net={net}')\n",
    "print(f'spike_seq_monitor.monitored_layers={spike_seq_monitor.monitored_layers}')\n",
    "print(f'linear_monitor.monitored_layers={linear_monitor.monitored_layers}')"
   ]
  },
  {
   "cell_type": "code",
   "execution_count": 6,
   "metadata": {},
   "outputs": [
    {
     "name": "stdout",
     "output_type": "stream",
     "text": [
      "spike_seq_monitor['1']=[tensor([[[0., 0., 0., 0.]],\n",
      "\n",
      "        [[1., 1., 1., 1.]],\n",
      "\n",
      "        [[0., 1., 1., 1.]],\n",
      "\n",
      "        [[1., 0., 0., 0.]]])]\n"
     ]
    }
   ],
   "source": [
    "print(f\"spike_seq_monitor['1']={spike_seq_monitor['1']}\")"
   ]
  },
  {
   "cell_type": "code",
   "execution_count": 7,
   "metadata": {},
   "outputs": [
    {
     "name": "stdout",
     "output_type": "stream",
     "text": [
      "spike_seq_monitor.records=[]\n",
      "spike_seq_monitor['1']=[]\n"
     ]
    }
   ],
   "source": [
    "spike_seq_monitor.clear_recorded_data()\n",
    "print(f'spike_seq_monitor.records={spike_seq_monitor.records}')\n",
    "print(f\"spike_seq_monitor['1']={spike_seq_monitor['1']}\")"
   ]
  },
  {
   "cell_type": "code",
   "execution_count": 8,
   "metadata": {},
   "outputs": [],
   "source": [
    "spike_seq_monitor.remove_hooks()\n",
    "linear_monitor.remove_hooks()"
   ]
  },
  {
   "cell_type": "code",
   "execution_count": 9,
   "metadata": {},
   "outputs": [],
   "source": [
    "def cal_firing_rate(s_seq: torch.Tensor):\n",
    "    # s_seq.shape = [T, N, *]\n",
    "    return s_seq.flatten(1).mean(1)"
   ]
  },
  {
   "cell_type": "code",
   "execution_count": 10,
   "metadata": {},
   "outputs": [
    {
     "name": "stdout",
     "output_type": "stream",
     "text": [
      "after call fr_monitor.disable(), fr_monitor.records=\n",
      "[]\n",
      "after call fr_monitor.enable(), fr_monitor.records=\n",
      "[tensor([0.0000, 1.0000, 0.7500, 0.2500]), tensor([0.0000, 0.5000, 1.0000, 0.0000])]\n"
     ]
    }
   ],
   "source": [
    "fr_monitor = monitor.OutputMonitor(net, neuron.IFNode, cal_firing_rate)\n",
    "\n",
    "with torch.no_grad():\n",
    "    functional.reset_net(net)\n",
    "    fr_monitor.disable()\n",
    "    net(x_seq)\n",
    "    functional.reset_net(net)\n",
    "    print(f'after call fr_monitor.disable(), fr_monitor.records=\\n{fr_monitor.records}')\n",
    "\n",
    "    fr_monitor.enable()\n",
    "    net(x_seq)\n",
    "    print(f'after call fr_monitor.enable(), fr_monitor.records=\\n{fr_monitor.records}')\n",
    "    functional.reset_net(net)\n",
    "    del fr_monitor"
   ]
  },
  {
   "cell_type": "code",
   "execution_count": 11,
   "metadata": {},
   "outputs": [],
   "source": [
    "for m in net.modules():\n",
    "    if isinstance(m, neuron.IFNode):\n",
    "        m.store_v_seq = True"
   ]
  },
  {
   "cell_type": "code",
   "execution_count": 12,
   "metadata": {},
   "outputs": [
    {
     "name": "stdout",
     "output_type": "stream",
     "text": [
      "v_seq_monitor.records=\n",
      "[tensor([[[0.6820, 0.9185, 0.6898, 0.7219]],\n",
      "\n",
      "        [[0.0000, 0.0000, 0.0000, 0.0000]],\n",
      "\n",
      "        [[0.8396, 0.0000, 0.0000, 0.0000]],\n",
      "\n",
      "        [[0.0000, 0.9662, 0.7659, 0.9066]]]), tensor([[[0.0510, 0.4630]],\n",
      "\n",
      "        [[0.8387, 0.0000]],\n",
      "\n",
      "        [[0.0000, 0.0000]],\n",
      "\n",
      "        [[0.3931, 0.9516]]])]\n"
     ]
    }
   ],
   "source": [
    "v_seq_monitor = monitor.AttributeMonitor('v_seq', pre_forward=False, net=net, instance=neuron.IFNode)\n",
    "with torch.no_grad():\n",
    "    net(x_seq)\n",
    "    print(f'v_seq_monitor.records=\\n{v_seq_monitor.records}')\n",
    "    functional.reset_net(net)\n",
    "    del v_seq_monitor"
   ]
  },
  {
   "cell_type": "code",
   "execution_count": 13,
   "metadata": {},
   "outputs": [
    {
     "name": "stdout",
     "output_type": "stream",
     "text": [
      "input_monitor.records=\n",
      "[tensor([[[0.6820, 0.9185, 0.6898, 0.7219]],\n",
      "\n",
      "        [[0.8513, 0.9923, 0.7236, 1.0778]],\n",
      "\n",
      "        [[0.8396, 1.0755, 1.0126, 1.0248]],\n",
      "\n",
      "        [[0.5967, 0.9662, 0.7659, 0.9066]]]), tensor([[[0.0510, 0.4630]],\n",
      "\n",
      "        [[0.7877, 2.0296]],\n",
      "\n",
      "        [[0.4455, 1.5410]],\n",
      "\n",
      "        [[0.3931, 0.9516]]])]\n"
     ]
    }
   ],
   "source": [
    "input_monitor = monitor.InputMonitor(net, neuron.IFNode)\n",
    "with torch.no_grad():\n",
    "    net(x_seq)\n",
    "    print(f'input_monitor.records=\\n{input_monitor.records}')\n",
    "    functional.reset_net(net)\n",
    "    del input_monitor"
   ]
  },
  {
   "cell_type": "code",
   "execution_count": 14,
   "metadata": {},
   "outputs": [
    {
     "name": "stdout",
     "output_type": "stream",
     "text": [
      "spike_seq_grad_monitor.records=\n",
      "[tensor([[[1., 1.]],\n",
      "\n",
      "        [[1., 1.]],\n",
      "\n",
      "        [[1., 1.]],\n",
      "\n",
      "        [[1., 1.]]]), tensor([[[ 0.5635,  0.2185,  0.2244,  0.4061]],\n",
      "\n",
      "        [[ 0.3540,  0.0684,  0.0633,  0.2842]],\n",
      "\n",
      "        [[ 0.0602, -0.0479, -0.0564,  0.0736]],\n",
      "\n",
      "        [[ 0.5860,  0.4048,  0.4338,  0.3470]]])]\n"
     ]
    }
   ],
   "source": [
    "spike_seq_grad_monitor = monitor.GradOutputMonitor(net, neuron.IFNode)\n",
    "net(x_seq).sum().backward()\n",
    "print(f'spike_seq_grad_monitor.records=\\n{spike_seq_grad_monitor.records}')\n",
    "functional.reset_net(net)\n",
    "del spike_seq_grad_monitor"
   ]
  },
  {
   "cell_type": "code",
   "execution_count": 15,
   "metadata": {},
   "outputs": [
    {
     "name": "stdout",
     "output_type": "stream",
     "text": [
      "alpha=0.1, input_grad_monitor.records=\n",
      "[tensor(0.3861), tensor(0.0124), tensor(0.0004), tensor(5.4694e-06), tensor(1.0116e-07), tensor(2.4601e-09), tensor(4.0712e-11), tensor(7.2066e-13), tensor(1.1894e-14), tensor(2.7602e-16)]\n",
      "\n",
      "alpha=0.5, input_grad_monitor.records=\n",
      "[tensor(1.7764), tensor(0.2671), tensor(0.0431), tensor(0.0026), tensor(0.0002), tensor(2.4132e-05), tensor(1.8576e-06), tensor(1.7545e-07), tensor(1.3205e-08), tensor(1.4386e-09)]\n",
      "\n",
      "alpha=2, input_grad_monitor.records=\n",
      "[tensor(3.7181), tensor(1.2200), tensor(0.5242), tensor(0.0952), tensor(0.0183), tensor(0.0020), tensor(0.0003), tensor(7.2221e-05), tensor(9.8139e-06), tensor(2.5349e-06)]\n",
      "\n",
      "alpha=4, input_grad_monitor.records=\n",
      "[tensor(3.6314), tensor(1.0233), tensor(0.4522), tensor(0.0771), tensor(0.0056), tensor(0.0009), tensor(0.0001), tensor(6.2765e-05), tensor(8.8703e-06), tensor(3.6065e-06)]\n",
      "\n",
      "alpha=8, input_grad_monitor.records=\n",
      "[tensor(2.4827), tensor(0.5324), tensor(0.2613), tensor(0.0909), tensor(0.0322), tensor(0.0168), tensor(0.0013), tensor(0.0007), tensor(0.0003), tensor(0.0002)]\n",
      "\n"
     ]
    }
   ],
   "source": [
    "net = []\n",
    "for i in range(10):\n",
    "    net.append(layer.Linear(8, 8))\n",
    "    net.append(neuron.IFNode())\n",
    "\n",
    "net = nn.Sequential(*net)\n",
    "\n",
    "functional.set_step_mode(net, 'm')\n",
    "\n",
    "T = 4\n",
    "N = 1\n",
    "x_seq = torch.rand([T, N, 8])\n",
    "\n",
    "input_grad_monitor = monitor.GradInputMonitor(net, neuron.IFNode, function_on_grad_input=torch.norm)\n",
    "\n",
    "for alpha in [0.1, 0.5, 2, 4, 8]:\n",
    "    for m in net.modules():\n",
    "        if isinstance(m, surrogate.Sigmoid):\n",
    "            m.alpha = alpha\n",
    "    net(x_seq).sum().backward()\n",
    "    print(f'alpha={alpha}, input_grad_monitor.records=\\n{input_grad_monitor.records}\\n')\n",
    "    functional.reset_net(net)\n",
    "    # zero grad\n",
    "    for param in net.parameters():\n",
    "        param.grad.zero_()\n",
    "\n",
    "    input_grad_monitor.records.clear()"
   ]
  }
 ],
 "metadata": {
  "kernelspec": {
   "display_name": "Python 3.8.15 ('py38')",
   "language": "python",
   "name": "python3"
  },
  "language_info": {
   "codemirror_mode": {
    "name": "ipython",
    "version": 3
   },
   "file_extension": ".py",
   "mimetype": "text/x-python",
   "name": "python",
   "nbconvert_exporter": "python",
   "pygments_lexer": "ipython3",
   "version": "3.8.15"
  },
  "orig_nbformat": 4,
  "vscode": {
   "interpreter": {
    "hash": "51582ed516be4194d0681ab41331bdf49015ae552f1f95522fcb6a8efc2a378b"
   }
  }
 },
 "nbformat": 4,
 "nbformat_minor": 2
}
