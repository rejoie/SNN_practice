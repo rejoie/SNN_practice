{
 "cells": [
  {
   "cell_type": "code",
   "execution_count": 1,
   "metadata": {},
   "outputs": [],
   "source": [
    "import torch\n",
    "import torch.nn as nn\n",
    "from spikingjelly.activation_based import monitor, neuron, functional, layer"
   ]
  },
  {
   "cell_type": "code",
   "execution_count": 2,
   "metadata": {},
   "outputs": [],
   "source": [
    "net = nn.Sequential(\n",
    "    layer.Linear(8, 4),\n",
    "    neuron.IFNode(),\n",
    "    layer.Linear(4, 2),\n",
    "    neuron.IFNode()\n",
    ")\n",
    "\n",
    "for param in net.parameters():\n",
    "    param.data.abs_()\n",
    "\n",
    "functional.set_step_mode(net, 'm')"
   ]
  },
  {
   "cell_type": "code",
   "execution_count": 3,
   "metadata": {},
   "outputs": [
    {
     "name": "stdout",
     "output_type": "stream",
     "text": [
      "spike_seq_monitor.records=\n",
      "[tensor([[[0., 0., 0., 0.]],\n",
      "\n",
      "        [[1., 1., 1., 1.]],\n",
      "\n",
      "        [[0., 0., 0., 0.]],\n",
      "\n",
      "        [[1., 1., 1., 1.]]]), tensor([[[0., 0.]],\n",
      "\n",
      "        [[1., 1.]],\n",
      "\n",
      "        [[0., 0.]],\n",
      "\n",
      "        [[1., 1.]]])]\n"
     ]
    }
   ],
   "source": [
    "spike_seq_monitor = monitor.OutputMonitor(net, neuron.IFNode)\n",
    "T = 4\n",
    "N = 1\n",
    "x_seq = torch.rand([T, N, 8])\n",
    "\n",
    "with torch.no_grad():\n",
    "    net(x_seq)\n",
    "\n",
    "print(f'spike_seq_monitor.records=\\n{spike_seq_monitor.records}')"
   ]
  },
  {
   "cell_type": "code",
   "execution_count": 4,
   "metadata": {},
   "outputs": [
    {
     "name": "stdout",
     "output_type": "stream",
     "text": [
      "spike_seq_monitor[0]=tensor([[[0., 0., 0., 0.]],\n",
      "\n",
      "        [[1., 1., 1., 1.]],\n",
      "\n",
      "        [[0., 0., 0., 0.]],\n",
      "\n",
      "        [[1., 1., 1., 1.]]])\n"
     ]
    }
   ],
   "source": [
    "print(f'spike_seq_monitor[0]={spike_seq_monitor[0]}')"
   ]
  },
  {
   "cell_type": "code",
   "execution_count": 5,
   "metadata": {},
   "outputs": [
    {
     "name": "stdout",
     "output_type": "stream",
     "text": [
      "net=Sequential(\n",
      "  (0): Linear(in_features=8, out_features=4, bias=True)\n",
      "  (1): IFNode(\n",
      "    v_threshold=1.0, v_reset=0.0, detach_reset=False, step_mode=m, backend=torch\n",
      "    (surrogate_function): Sigmoid(alpha=4.0, spiking=True)\n",
      "  )\n",
      "  (2): Linear(in_features=4, out_features=2, bias=True)\n",
      "  (3): IFNode(\n",
      "    v_threshold=1.0, v_reset=0.0, detach_reset=False, step_mode=m, backend=torch\n",
      "    (surrogate_function): Sigmoid(alpha=4.0, spiking=True)\n",
      "  )\n",
      ")\n",
      "spike_seq_monitor.monitored_layers=['1', '3']\n"
     ]
    }
   ],
   "source": [
    "print(f'net={net}')\n",
    "print(f'spike_seq_monitor.monitored_layers={spike_seq_monitor.monitored_layers}')"
   ]
  },
  {
   "cell_type": "code",
   "execution_count": 6,
   "metadata": {},
   "outputs": [
    {
     "name": "stdout",
     "output_type": "stream",
     "text": [
      "spike_seq_monitor['1']=[tensor([[[0., 0., 0., 0.]],\n",
      "\n",
      "        [[1., 1., 1., 1.]],\n",
      "\n",
      "        [[0., 0., 0., 0.]],\n",
      "\n",
      "        [[1., 1., 1., 1.]]])]\n"
     ]
    }
   ],
   "source": [
    "print(f\"spike_seq_monitor['1']={spike_seq_monitor['1']}\")"
   ]
  },
  {
   "cell_type": "code",
   "execution_count": 7,
   "metadata": {},
   "outputs": [
    {
     "name": "stdout",
     "output_type": "stream",
     "text": [
      "spike_seq_monitor.records=[]\n",
      "spike_seq_monitor['1']=[]\n"
     ]
    }
   ],
   "source": [
    "spike_seq_monitor.clear_recorded_data()\n",
    "print(f'spike_seq_monitor.records={spike_seq_monitor.records}')\n",
    "print(f\"spike_seq_monitor['1']={spike_seq_monitor['1']}\")"
   ]
  }
 ],
 "metadata": {
  "kernelspec": {
   "display_name": "Python 3.7.15 ('py37')",
   "language": "python",
   "name": "python3"
  },
  "language_info": {
   "codemirror_mode": {
    "name": "ipython",
    "version": 3
   },
   "file_extension": ".py",
   "mimetype": "text/x-python",
   "name": "python",
   "nbconvert_exporter": "python",
   "pygments_lexer": "ipython3",
   "version": "3.7.15"
  },
  "orig_nbformat": 4,
  "vscode": {
   "interpreter": {
    "hash": "78f496bae59da85308d81e6a61ec23c682303053c7903da9a3336f09cefb686a"
   }
  }
 },
 "nbformat": 4,
 "nbformat_minor": 2
}
