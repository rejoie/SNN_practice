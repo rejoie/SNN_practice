{
 "cells": [
  {
   "cell_type": "code",
   "execution_count": 5,
   "metadata": {},
   "outputs": [],
   "source": [
    "import torch\n",
    "import torch.nn as nn\n",
    "import torch.nn.functional as F\n",
    "import torchvision.datasets\n",
    "from spikingjelly.activation_based import neuron, surrogate, layer, functional\n",
    "from torch.cuda import amp\n",
    "import os, argparse\n",
    "from torch.utils.tensorboard import SummaryWriter\n",
    "import time\n",
    "import datetime\n",
    "import sys"
   ]
  },
  {
   "cell_type": "code",
   "execution_count": 6,
   "metadata": {},
   "outputs": [
    {
     "name": "stdout",
     "output_type": "stream",
     "text": [
      "ElementWiseRecurrentContainer(\n",
      "  element-wise function=<function element_wise_add at 0x7efeec347160>, step_mode=s\n",
      "  (sub_module): IFNode(\n",
      "    v_threshold=1.0, v_reset=0.0, detach_reset=False, step_mode=s, backend=torch\n",
      "    (surrogate_function): Sigmoid(alpha=4.0, spiking=True)\n",
      "  )\n",
      ")\n",
      "0 x[t]=tensor([1.5000]), s[t]=tensor([1.])\n",
      "1 x[t]=tensor([0.]), s[t]=tensor([1.])\n",
      "2 x[t]=tensor([0.]), s[t]=tensor([1.])\n",
      "3 x[t]=tensor([0.]), s[t]=tensor([1.])\n",
      "4 x[t]=tensor([0.]), s[t]=tensor([1.])\n",
      "5 x[t]=tensor([0.]), s[t]=tensor([1.])\n",
      "6 x[t]=tensor([0.]), s[t]=tensor([1.])\n",
      "7 x[t]=tensor([0.]), s[t]=tensor([1.])\n"
     ]
    }
   ],
   "source": [
    "T = 8\n",
    "N = 1\n",
    "\n",
    "def element_wise_add(x, y):\n",
    "    return x + y\n",
    "\n",
    "net = layer.ElementWiseRecurrentContainer(neuron.IFNode(), element_wise_add)\n",
    "print(net)\n",
    "x = torch.zeros([T, N])\n",
    "x[0] = 1.5\n",
    "for t in range(T):\n",
    "    print(t, f'x[t]={x[t]}, s[t]={net(x[t])}')\n",
    "\n",
    "functional.reset_net(net)"
   ]
  },
  {
   "cell_type": "code",
   "execution_count": 7,
   "metadata": {},
   "outputs": [],
   "source": [
    "stateful_conv = nn.Sequential(\n",
    "    layer.Conv2d(3, 16, kernel_size=3, padding=1, stride=1),\n",
    "    layer.SynapseFilter(tau=100.)\n",
    ")"
   ]
  },
  {
   "cell_type": "code",
   "execution_count": 8,
   "metadata": {},
   "outputs": [],
   "source": [
    "class PlainNet(nn.Module):\n",
    "    def __init__(self):\n",
    "        super().__init__()\n",
    "        self.fc = nn.Sequential(\n",
    "            layer.Linear(28, 32),\n",
    "            neuron.IFNode(surrogate_function=surrogate.ATan()),\n",
    "            layer.Linear(32, 10),\n",
    "            neuron.IFNode(surrogate_function=surrogate.ATan())\n",
    "        )\n",
    "\n",
    "    def forward(self, x: torch.Tensor):\n",
    "        return self.fc(x).mean(0)"
   ]
  },
  {
   "cell_type": "code",
   "execution_count": 9,
   "metadata": {},
   "outputs": [],
   "source": [
    "class StatefulSynapseNet(nn.Module):\n",
    "    def __init__(self):\n",
    "        super().__init__()\n",
    "        self.fc = nn.Sequential(\n",
    "            layer.Linear(28, 32),\n",
    "            neuron.IFNode(surrogate_function=surrogate.ATan()),\n",
    "            layer.SynapseFilter(tau=2., learnable=True),\n",
    "            layer.Linear(32, 10),\n",
    "            neuron.IFNode(surrogate_function=surrogate.ATan())\n",
    "        )\n",
    "\n",
    "    def forward(self, x: torch.Tensor):\n",
    "        return self.fc(x).mean(0)"
   ]
  },
  {
   "cell_type": "code",
   "execution_count": 10,
   "metadata": {},
   "outputs": [],
   "source": [
    "class FeedBackNet(nn.Module):\n",
    "    def __init__(self):\n",
    "        super().__init__()\n",
    "\n",
    "        self.fc = nn.Sequential(\n",
    "            layer.Linear(28, 32),\n",
    "            layer.LinearRecurrentContainer(\n",
    "                neuron.IFNode(surrogate_function=surrogate.ATan(), detach_reset=True),\n",
    "                in_features=32, out_features=32, bias=True\n",
    "            ),\n",
    "            layer.Linear(32, 10),\n",
    "            neuron.IFNode(surrogate_function=surrogate.ATan())\n",
    "        )\n",
    "\n",
    "    def forward(self, x: torch.Tensor):\n",
    "        return self.fc(x).mean(0)"
   ]
  }
 ],
 "metadata": {
  "kernelspec": {
   "display_name": "Python 3.8.15 ('py38')",
   "language": "python",
   "name": "python3"
  },
  "language_info": {
   "codemirror_mode": {
    "name": "ipython",
    "version": 3
   },
   "file_extension": ".py",
   "mimetype": "text/x-python",
   "name": "python",
   "nbconvert_exporter": "python",
   "pygments_lexer": "ipython3",
   "version": "3.8.15"
  },
  "orig_nbformat": 4,
  "vscode": {
   "interpreter": {
    "hash": "51582ed516be4194d0681ab41331bdf49015ae552f1f95522fcb6a8efc2a378b"
   }
  }
 },
 "nbformat": 4,
 "nbformat_minor": 2
}
